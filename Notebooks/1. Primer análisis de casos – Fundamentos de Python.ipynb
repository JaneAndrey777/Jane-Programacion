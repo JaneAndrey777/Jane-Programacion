{
 "cells": [
  {
   "cell_type": "markdown",
   "metadata": {
    "id": "q7R3dARlFtDY"
   },
   "source": [
    "# Primer análisis de casos – Fundamentos de Python\n",
    "\n",
    "## Objetivo:\n",
    "En esta tarea, practicaremos los fundamentos básicos de Python resolviendo **cuatro ejercicios** de la lista planteada. Cada solución debe detallar **entradas**, **procesos** y **salidas** para comprender mejor cómo funciona cada problema.\n",
    "\n",
    "### Formato para cada ejercicio (seleccionemos 4 ejercicios):\n",
    "#### Ejercicio X:\n",
    "- **Descripción del problema:** Incluiremos el enunciado del ejercicio.\n",
    "- **Entradas:** Detallaremos los datos que debemos ingresar.\n",
    "- **Proceso:** Explicaremos cómo resolveremos el problema (algoritmo o fórmula).\n",
    "- **Salidas:** Describiremos el resultado que veremos en pantalla al final del proceso.\n",
    "\n",
    "#### Código del ejercicio:\n",
    "- Escribiremos la solución del ejercicio en una celda de código Python.\n",
    "- Agregaremos comentarios para explicar el código y hacerlo más comprensible.\n",
    "\n",
    "### Conclusión:\n",
    "- Al final, resumiremos lo que hemos aprendido resolviendo los ejercicios.\n",
    "- Reflexionaremos sobre cómo Python nos ayuda a solucionar problemas cotidianos.\n",
    "\n",
    "## Formato de entrega del informe en PDF:\n",
    "\n",
    "Debemos exportar nuestro notebook de Jupyter a formato PDF, cumpliendo con las siguientes pautas:\n",
    "\n",
    "### Portada:\n",
    "- Primer análisis de casos – Fundamentos de Python.\n",
    "- Jane Andrey Méndez Blanco\n",
    "- 9 de Octubre 2025\n",
    "- Técnico en Análisis de Datos \n",
    "\n",
    "### Cuerpo del informe:\n",
    "- **Introducción:** Explicaremos brevemente los ejercicios que hemos seleccionado.\n",
    "- **Desarrollo de cada ejercicio:**\n",
    "  - Descripción del problema.\n",
    "  - Entradas, procesos y salidas detallados.\n",
    "  - Capturas de pantalla del código y del resultado de la ejecución.\n",
    "\n",
    "### Conclusión:\n",
    "- Reflexionaremos sobre el aprendizaje y las posibles dificultades que enfrentamos durante la resolución de los ejercicios.\n",
    "\n",
    "## Lista de ejercicios (Seleccionemos 4):\n",
    "\n",
    "1. Calcular el área de un triángulo a partir de la base y altura ingresadas.\n",
    "2. Convertir una cantidad de dólares a colones.\n",
    "3. Convertir grados centígrados a Fahrenheit.\n",
    "4. Mostrar cuántos segundos tiene un lustro.\n",
    "5. Calcular el tiempo que le toma a la luz viajar del sol a Marte.\n",
    "6. Calcular cuántas vueltas da una llanta en 1 km.\n",
    "7. Calcular la longitud de la sombra de un edificio de 20 metros.\n",
    "8. Comparar si la edad ingresada por dos usuarios es la misma.\n",
    "9. Calcular cuántos meses han transcurrido desde nuestra fecha de nacimiento.\n",
    "10. Calcular el promedio de un alumno en 5 materias.\n",
    "\n",
    "## Proceso de entrega:\n",
    "1. Resolveremos 4 de los ejercicios propuestos en un notebook de.\n",
    "2. Exportaremos el notebook a PDF siguiendo el formato establecido.\n",
    "3. Subiremos el PDF y el archivo de notebook (.ipynb) a la plataforma antes de la fecha límite.\n"
   ]
  },
  {
   "cell_type": "markdown",
   "metadata": {},
   "source": []
  },
  {
   "cell_type": "markdown",
   "metadata": {},
   "source": [
    "# Problema #1\n",
    "\n",
    "### Convertir una cantidad de dólares a colones.\n",
    "\n",
    "## Entrada: \n",
    "Leer La cantidad de dolares\n",
    "Leer tipo cambio\n",
    "\n",
    "## Proceso:\n",
    "\n",
    "cantidad_dolares * tipo_cambio\n",
    "\n",
    "## Salida:\n",
    "\n",
    "resultado de la multiplicacion"
   ]
  },
  {
   "cell_type": "code",
   "execution_count": 4,
   "metadata": {
    "colab": {
     "base_uri": "https://localhost:8080/"
    },
    "executionInfo": {
     "elapsed": 10485,
     "status": "ok",
     "timestamp": 1712064323417,
     "user": {
      "displayName": "Andrés Mena Abarca",
      "userId": "07418092259593836578"
     },
     "user_tz": 360
    },
    "id": "n3rOsUESDeTs",
    "outputId": "1cd40ed7-f1d2-4b89-bca5-696418df0021"
   },
   "outputs": [
    {
     "name": "stdout",
     "output_type": "stream",
     "text": [
      "Bievenido a la casa virtual de cambio de Doláres a Colones\n",
      "La cantidad de colones basado en el tipo de cambio al día de hoy es de: {7615.0}\n"
     ]
    }
   ],
   "source": [
    "#Solución aquí\n",
    "print('Bievenido a la casa virtual de cambio de Doláres a Colones')\n",
    "dólares = float(input('Ingrese el monto en dólares: '))\n",
    "tipo_de_cambio = dólares * 500 #500 colones al dia de hoy \n",
    "print(f'La cantidad de colones basado en el tipo de cambio al día de hoy es de:' ,{tipo_de_cambio})\n"
   ]
  },
  {
   "cell_type": "markdown",
   "metadata": {},
   "source": [
    "# Problema #2\n",
    "\n",
    "### Mostrar cuántos segundos tiene un lustro.\n",
    "\n",
    "## Entrada:\n",
    "Los segundos y el lustro son no variables por ende definir cada cantidad segundos por día y luego cuantos días hay en un lustro \n",
    "\n",
    "## Proceso:\n",
    "Segundos por día * Días en un lustro 1826 (365*5) + el día extra del año bisiesto\n",
    "\n",
    "## Salida:\n",
    "Resultado de la multiplicación "
   ]
  },
  {
   "cell_type": "code",
   "execution_count": 18,
   "metadata": {},
   "outputs": [
    {
     "name": "stdout",
     "output_type": "stream",
     "text": [
      "Cácule los segundos que hay en dentro de lustro\n",
      "La cantidad de segundos dentro de un lustro es: 86400 * 1826 = 157766400\n",
      "Tomando en cosideración que hay 1826 días en un lustro y 86400 segundos en un día, cálcule los segundos dentro de este lapso de tiempo\n",
      "La cantidad de segundos en un lapso de 20.0 días, es de: 1728000.0\n"
     ]
    }
   ],
   "source": [
    "# Código solucción aqui\n",
    "print('Cácule los segundos que hay en dentro de lustro')\n",
    "segundos_por_día = 86400\n",
    "dias_por_lustro = 1826\n",
    "resultado_secs_lustro = segundos_por_día * dias_por_lustro\n",
    "print(f'La cantidad de segundos dentro de un lustro es: {segundos_por_día} * {dias_por_lustro} = {resultado_secs_lustro}')\n",
    "\n",
    "\n",
    "# Segunda Parte \n",
    "\n",
    "print('Tomando en cosideración que hay 1826 días en un lustro y 86400 segundos en un día, cálcule los segundos dentro de este lapso de tiempo')\n",
    "segundos_lustro = float(input('Ingrese la cantidad de segundos que desea calcular dentro de un lapso de un lustro: '))\n",
    "resultado = segundos_lustro * segundos_por_día\n",
    "print(f'La cantidad de segundos en un lapso de {segundos_lustro} días, es de: {resultado}')\n"
   ]
  },
  {
   "cell_type": "markdown",
   "metadata": {},
   "source": [
    "# Problema #3\n",
    "\n",
    "### Calcular cuántos meses han transcurrido desde nuestra fecha de nacimiento.\n",
    "\n",
    "## Entrada:\n",
    "Cuántos meses hay en un año\n",
    "Multiplicado por la edad \n",
    "\n",
    "## Proceso:\n",
    "Meses * Edad \n",
    "\n",
    "## Salida:\n",
    "Resultado de la multiplicación"
   ]
  },
  {
   "cell_type": "code",
   "execution_count": null,
   "metadata": {},
   "outputs": [
    {
     "name": "stdout",
     "output_type": "stream",
     "text": [
      "Bienvenido(a), cálcule los meses que hay desde la fecha de su nacimiento!\n",
      "La cantidad de meses desde su fecha de nacimiento es de:, 168\n"
     ]
    }
   ],
   "source": [
    "# Código solucción aqui\n",
    "print('Bienvenido(a), cálcule los meses que hay desde la fecha de su nacimiento!')\n",
    "edad = int(input('Ingrese su edad: '))\n",
    "meses_x_año = 12 #No variable \n",
    "meses_x_edad = edad * meses_x_año\n",
    "print(f'La cantidad de meses desde su fecha de nacimiento es de: {meses_x_edad}')"
   ]
  },
  {
   "cell_type": "markdown",
   "metadata": {},
   "source": [
    "# Problema #4\n",
    "\n",
    "### Definir problema\n",
    "Calcular el promedio de un alumno en 5 materias.\n",
    "\n",
    "## Entrada:\n",
    "Definir las variables que serían materias \n",
    "\n",
    "## Proceso:\n",
    "Ingresar las notas por materia y luego dividirlo por 5\n",
    "\n",
    "## Salida:\n",
    "Resultado de la división"
   ]
  },
  {
   "cell_type": "code",
   "execution_count": null,
   "metadata": {},
   "outputs": [
    {
     "name": "stdout",
     "output_type": "stream",
     "text": [
      "Plataforma para Promedios\n",
      "Verifique que la información ingresada es correcta: 85.0 + 65.0 + 36.0 + 95.0 + 100.0\n",
      "El promedio es de: 76.2\n"
     ]
    }
   ],
   "source": [
    "# Código solucción aqui\n",
    "print('Plataforma para Promedios')\n",
    "materia1 = float(input('Ingrese la nota obtenida: '))\n",
    "materia2 = float(input('Ingrese la nota obtenida: '))\n",
    "materia3 = float(input('Ingrese la nota obtenida: '))\n",
    "materia4 = float(input('Ingrese la nota obtenida: '))\n",
    "materia5 = float(input('Ingrese la nota obtenida: '))\n",
    "resultado = (materia1 + materia2 + materia3 + materia4 + materia5) / 5\n",
    "print(f'Verifique que la información ingresada es correcta: {materia1} , {materia2} , {materia3} , {materia4} , {materia5}')\n",
    "print(f'El promedio es de: {resultado}')"
   ]
  }
 ],
 "metadata": {
  "colab": {
   "provenance": []
  },
  "kernelspec": {
   "display_name": "Python 3",
   "name": "python3"
  },
  "language_info": {
   "codemirror_mode": {
    "name": "ipython",
    "version": 3
   },
   "file_extension": ".py",
   "mimetype": "text/x-python",
   "name": "python",
   "nbconvert_exporter": "python",
   "pygments_lexer": "ipython3",
   "version": "3.13.7"
  }
 },
 "nbformat": 4,
 "nbformat_minor": 0
}
